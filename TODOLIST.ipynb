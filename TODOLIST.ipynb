{
 "cells": [
  {
   "cell_type": "markdown",
   "metadata": {},
   "source": [
    "## Plan Features\n",
    "\n",
    "|Features| Done|\n",
    "|---|---|\n",
    "|1. dragable windows||\n",
    "|2. footer|Done|\n",
    "|3. email command |Done|\n",
    "|4. filtered curse words||\n",
    "|5. project pages||\n",
    "|6. add new window||\n",
    "|7. create space illusion using wallpaper||\n",
    "|8. add friend page||"
   ]
  },
  {
   "cell_type": "markdown",
   "metadata": {},
   "source": [
    "## Github Pages Deployment\n",
    "\n",
    "refer [here](https://www.geeksforgeeks.org/deployment-of-react-application-using-github-pages/). Need to source from `/docs` instead of `/` otherwise when failed to search for `index.html` it will try to find `readme.md`\n",
    "\n",
    "Also each time download profile, need to npx install browserslist@lateast. \n",
    "\n",
    "so far my current problem is images from public could not renderred "
   ]
  },
  {
   "cell_type": "markdown",
   "metadata": {
    "vscode": {
     "languageId": "plaintext"
    }
   },
   "source": [
    "## How to add more commands?\n",
    "\n",
    "Go to <code>src/components/terminalbox</code>"
   ]
  },
  {
   "cell_type": "markdown",
   "metadata": {},
   "source": [
    "## first examples\n",
    "``` js\n",
    "else if (cmd.toLowerCase() === \"github\") {\n",
    "\t\t\tsetEnteredCmd((currentCmd) => [\n",
    "\t\t\t  ...currentCmd,\n",
    "\t\t\t  {\n",
    "\t\t\t\t...renderCmd(cmd),\n",
    "\t\t\t\ttime: new Date().toLocaleTimeString(),\n",
    "\t\t\t\tComponent: () => {\n",
    "\t\t\t\t  useEffect(() => {\n",
    "\t\t\t\t\twindow.open(\"https://github.com/fadzwanashriq\",\"_blank\")\n",
    "\t\t\t\t  }, []);\n",
    "\t\t  \n",
    "\t\t\t\t  return (\n",
    "\t\t\t\t\t<div>\n",
    "\t\t\t\t\t  <p>Opening github pages</p>\n",
    "\t\t\t\t\t</div>\n",
    "\t\t\t\t  );\n",
    "\t\t\t\t},\n",
    "\t\t\t\tcolor: 'White',\n",
    "\t\t\t\tbackgroundColor: 'red'\n",
    "\t\t\t  },\n",
    "\t\t\t]);\n",
    "\n",
    "```\n",
    "\n",
    "> here you can add new command\n",
    "`...currentCommand` will render the previos command , removing it will make the command like `clear`\n",
    "\n",
    "> you can use window.open(link,option blank) to open new tab with the given link"
   ]
  }
 ],
 "metadata": {
  "language_info": {
   "name": "python"
  }
 },
 "nbformat": 4,
 "nbformat_minor": 2
}
